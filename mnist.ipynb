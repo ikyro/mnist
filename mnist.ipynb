{
  "cells": [
    {
      "cell_type": "markdown",
      "metadata": {
        "id": "view-in-github",
        "colab_type": "text"
      },
      "source": [
        "<a href=\"https://colab.research.google.com/github/ikyro/mnist/blob/main/mnist.ipynb\" target=\"_parent\"><img src=\"https://colab.research.google.com/assets/colab-badge.svg\" alt=\"Open In Colab\"/></a>"
      ]
    },
    {
      "cell_type": "markdown",
      "metadata": {
        "id": "JBCWU50vr4yM"
      },
      "source": [
        "# Download `training data` and `test data`"
      ]
    },
    {
      "cell_type": "code",
      "execution_count": 157,
      "metadata": {
        "id": "X5ZVIOAvdcQ7"
      },
      "outputs": [],
      "source": [
        "from torchvision import datasets\n",
        "from torchvision.transforms import ToTensor\n",
        "\n",
        "training_data = datasets.MNIST(\n",
        "  root='data',\n",
        "  train=True,\n",
        "  download=True,\n",
        "  transform=ToTensor()\n",
        ")\n",
        "\n",
        "test_data = datasets.MNIST(\n",
        "  root='data',\n",
        "  train=False,\n",
        "  download=True,\n",
        "  transform=ToTensor()\n",
        ")"
      ]
    },
    {
      "cell_type": "code",
      "execution_count": 158,
      "metadata": {
        "colab": {
          "base_uri": "https://localhost:8080/",
          "height": 628
        },
        "id": "BIGKzIXum5N0",
        "outputId": "1c68a315-411a-4912-8df1-084899724e4f"
      },
      "outputs": [
        {
          "output_type": "display_data",
          "data": {
            "text/plain": [
              "<Figure size 600x600 with 9 Axes>"
            ],
            "image/png": "[encoded data removed]"
          },
          "metadata": {}
        }
      ],
      "source": [
        "import matplotlib.pyplot as plt\n",
        "import torch\n",
        "\n",
        "figure = plt.figure(figsize=(6, 6), layout='constrained')\n",
        "cols = 3\n",
        "rows = 3\n",
        "\n",
        "for i in range(cols * rows):\n",
        "  rand_index = torch.randint(len(training_data), size=(1,)).item()\n",
        "  img, label = training_data[rand_index] # type: ignore\n",
        "  figure.add_subplot(rows, cols, i + 1)\n",
        "  plt.title(label)\n",
        "  plt.axis('off')\n",
        "  plt.imshow(img.squeeze(), cmap='gray')\n",
        "\n",
        "plt.show()"
      ]
    },
    {
      "cell_type": "code",
      "execution_count": 159,
      "metadata": {
        "colab": {
          "base_uri": "https://localhost:8080/"
        },
        "id": "htu9MaHOM52S",
        "outputId": "11bea652-f321-4e32-f6f8-01f322d4dff9"
      },
      "outputs": [
        {
          "output_type": "stream",
          "name": "stdout",
          "text": [
            "training data size: torch.Size([60000, 28, 28])\n",
            "test data size: torch.Size([10000, 28, 28])\n"
          ]
        }
      ],
      "source": [
        "print(\n",
        "  f'training data size: {training_data.data.size()}',\n",
        "  f'test data size: {test_data.data.size()}',\n",
        "  sep='\\n'\n",
        ")\n",
        "\n",
        "#print(training_data.data.size()[1:])"
      ]
    },
    {
      "cell_type": "code",
      "execution_count": 160,
      "metadata": {
        "colab": {
          "base_uri": "https://localhost:8080/"
        },
        "id": "XdobnXfkqDUl",
        "outputId": "6f888265-0105-43c9-c731-2aee0683c656"
      },
      "outputs": [
        {
          "output_type": "stream",
          "name": "stdout",
          "text": [
            "using: cuda\n"
          ]
        }
      ],
      "source": [
        "from torch import cuda\n",
        "\n",
        "device = 'cuda' if cuda.is_available() else 'cpu'\n",
        "\n",
        "print(f'using: {device}')"
      ]
    },
    {
      "cell_type": "code",
      "execution_count": 161,
      "metadata": {
        "id": "_d86QlHTxBSn"
      },
      "outputs": [],
      "source": [
        "from torch import nn\n",
        "\n",
        "class NeuralNetwork(nn.Module):\n",
        "  def __init__(self):\n",
        "    super().__init__()\n",
        "\n",
        "    self.flatten = nn.Flatten()\n",
        "    self.linear_relu_stack = nn.Sequential(\n",
        "      nn.Linear(in_features=28*28, out_features=512),\n",
        "      nn.ReLU(),\n",
        "      nn.Linear(in_features=512, out_features=512),\n",
        "      nn.ReLU(),\n",
        "      nn.Linear(in_features=512, out_features=10)\n",
        "    )\n",
        "\n",
        "  def forward(self, x):\n",
        "    x = self.flatten(x)\n",
        "    logits = self.linear_relu_stack(x)\n",
        "\n",
        "    return logits"
      ]
    },
    {
      "cell_type": "markdown",
      "source": [
        "# Data Loaders"
      ],
      "metadata": {
        "id": "Z2bPUdaVQ-Vi"
      }
    },
    {
      "cell_type": "code",
      "execution_count": 162,
      "metadata": {
        "id": "sth14QNkudBJ"
      },
      "outputs": [],
      "source": [
        "from torch.utils.data import DataLoader\n",
        "\n",
        "training_loader = DataLoader(\n",
        "  training_data,\n",
        "  batch_size=100,\n",
        "  shuffle=True,\n",
        "  num_workers=2,\n",
        "  pin_memory=True,\n",
        ")\n",
        "\n",
        "test_loader = DataLoader(\n",
        "  test_data,\n",
        "  batch_size=100,\n",
        "  shuffle=True,\n",
        "  num_workers=2,\n",
        "  pin_memory=True,\n",
        ")"
      ]
    },
    {
      "cell_type": "markdown",
      "source": [
        "# Model Instance"
      ],
      "metadata": {
        "id": "AnGanuvyszJx"
      }
    },
    {
      "cell_type": "code",
      "execution_count": 163,
      "metadata": {
        "id": "p__TOMMsMpsL"
      },
      "outputs": [],
      "source": [
        "model = NeuralNetwork().to(device)"
      ]
    },
    {
      "cell_type": "markdown",
      "metadata": {
        "id": "m0w369diFsOp"
      },
      "source": [
        "# Training Model"
      ]
    },
    {
      "cell_type": "code",
      "execution_count": 175,
      "metadata": {
        "colab": {
          "base_uri": "https://localhost:8080/"
        },
        "id": "4jKrh_hXbrfM",
        "outputId": "97fa504b-fac2-47a1-e5b4-f61c82efec33"
      },
      "outputs": [
        {
          "output_type": "stream",
          "name": "stdout",
          "text": [
            "training epoch: [1/5]\n",
            "loss: 0.0008 [1000/60000]\n",
            "loss: 0.0001 [2000/60000]\n",
            "loss: 0.0001 [3000/60000]\n",
            "loss: 0.0000 [4000/60000]\n",
            "loss: 0.0005 [5000/60000]\n",
            "loss: 0.0103 [6000/60000]\n",
            "loss: 0.0002 [7000/60000]\n",
            "loss: 0.0000 [8000/60000]\n",
            "loss: 0.0000 [9000/60000]\n",
            "loss: 0.0001 [10000/60000]\n",
            "loss: 0.0003 [11000/60000]\n",
            "loss: 0.0002 [12000/60000]\n",
            "loss: 0.0048 [13000/60000]\n",
            "loss: 0.0002 [14000/60000]\n",
            "loss: 0.0005 [15000/60000]\n",
            "loss: 0.0054 [16000/60000]\n",
            "loss: 0.0000 [17000/60000]\n",
            "loss: 0.0076 [18000/60000]\n",
            "loss: 0.0000 [19000/60000]\n",
            "loss: 0.0157 [20000/60000]\n",
            "loss: 0.0026 [21000/60000]\n",
            "loss: 0.0000 [22000/60000]\n",
            "loss: 0.0002 [23000/60000]\n",
            "loss: 0.0000 [24000/60000]\n",
            "loss: 0.0054 [25000/60000]\n",
            "loss: 0.0001 [26000/60000]\n",
            "loss: 0.0171 [27000/60000]\n",
            "loss: 0.0001 [28000/60000]\n",
            "loss: 0.0014 [29000/60000]\n",
            "loss: 0.0011 [30000/60000]\n",
            "loss: 0.0005 [31000/60000]\n",
            "loss: 0.0001 [32000/60000]\n",
            "loss: 0.0011 [33000/60000]\n",
            "loss: 0.0000 [34000/60000]\n",
            "loss: 0.0162 [35000/60000]\n",
            "loss: 0.0023 [36000/60000]\n",
            "loss: 0.0049 [37000/60000]\n",
            "loss: 0.0687 [38000/60000]\n",
            "loss: 0.0090 [39000/60000]\n",
            "loss: 0.0370 [40000/60000]\n",
            "loss: 0.0002 [41000/60000]\n",
            "loss: 0.0023 [42000/60000]\n",
            "loss: 0.0002 [43000/60000]\n",
            "loss: 0.0013 [44000/60000]\n",
            "loss: 0.0158 [45000/60000]\n",
            "loss: 0.0007 [46000/60000]\n",
            "loss: 0.0060 [47000/60000]\n",
            "loss: 0.0088 [48000/60000]\n",
            "loss: 0.0014 [49000/60000]\n",
            "loss: 0.0141 [50000/60000]\n",
            "loss: 0.0000 [51000/60000]\n",
            "loss: 0.0001 [52000/60000]\n",
            "loss: 0.0000 [53000/60000]\n",
            "loss: 0.0000 [54000/60000]\n",
            "loss: 0.0008 [55000/60000]\n",
            "loss: 0.0481 [56000/60000]\n",
            "loss: 0.0040 [57000/60000]\n",
            "loss: 0.0001 [58000/60000]\n",
            "loss: 0.0027 [59000/60000]\n",
            "loss: 0.0203 [60000/60000]\n",
            "training epoch: [2/5]\n",
            "loss: 0.0014 [1000/60000]\n",
            "loss: 0.0000 [2000/60000]\n",
            "loss: 0.0009 [3000/60000]\n",
            "loss: 0.0012 [4000/60000]\n",
            "loss: 0.0030 [5000/60000]\n",
            "loss: 0.0000 [6000/60000]\n",
            "loss: 0.0085 [7000/60000]\n",
            "loss: 0.0000 [8000/60000]\n",
            "loss: 0.0004 [9000/60000]\n",
            "loss: 0.0094 [10000/60000]\n",
            "loss: 0.0001 [11000/60000]\n",
            "loss: 0.0000 [12000/60000]\n",
            "loss: 0.0069 [13000/60000]\n",
            "loss: 0.0015 [14000/60000]\n",
            "loss: 0.0017 [15000/60000]\n",
            "loss: 0.0002 [16000/60000]\n",
            "loss: 0.0081 [17000/60000]\n",
            "loss: 0.0002 [18000/60000]\n",
            "loss: 0.0042 [19000/60000]\n",
            "loss: 0.0002 [20000/60000]\n",
            "loss: 0.0279 [21000/60000]\n",
            "loss: 0.0064 [22000/60000]\n",
            "loss: 0.0076 [23000/60000]\n",
            "loss: 0.0011 [24000/60000]\n",
            "loss: 0.0001 [25000/60000]\n",
            "loss: 0.0001 [26000/60000]\n",
            "loss: 0.0101 [27000/60000]\n",
            "loss: 0.0000 [28000/60000]\n",
            "loss: 0.0001 [29000/60000]\n",
            "loss: 0.0000 [30000/60000]\n",
            "loss: 0.0048 [31000/60000]\n",
            "loss: 0.0000 [32000/60000]\n",
            "loss: 0.0134 [33000/60000]\n",
            "loss: 0.0000 [34000/60000]\n",
            "loss: 0.0059 [35000/60000]\n",
            "loss: 0.0001 [36000/60000]\n",
            "loss: 0.0111 [37000/60000]\n",
            "loss: 0.0001 [38000/60000]\n",
            "loss: 0.0023 [39000/60000]\n",
            "loss: 0.0001 [40000/60000]\n",
            "loss: 0.0000 [41000/60000]\n",
            "loss: 0.0001 [42000/60000]\n",
            "loss: 0.0074 [43000/60000]\n",
            "loss: 0.0063 [44000/60000]\n",
            "loss: 0.0535 [45000/60000]\n",
            "loss: 0.0017 [46000/60000]\n",
            "loss: 0.0004 [47000/60000]\n",
            "loss: 0.0031 [48000/60000]\n",
            "loss: 0.0005 [49000/60000]\n",
            "loss: 0.0008 [50000/60000]\n",
            "loss: 0.0257 [51000/60000]\n",
            "loss: 0.0001 [52000/60000]\n",
            "loss: 0.0001 [53000/60000]\n",
            "loss: 0.0036 [54000/60000]\n",
            "loss: 0.0019 [55000/60000]\n",
            "loss: 0.0005 [56000/60000]\n",
            "loss: 0.0006 [57000/60000]\n",
            "loss: 0.0001 [58000/60000]\n",
            "loss: 0.0412 [59000/60000]\n",
            "loss: 0.0005 [60000/60000]\n",
            "training epoch: [3/5]\n",
            "loss: 0.0002 [1000/60000]\n",
            "loss: 0.0002 [2000/60000]\n",
            "loss: 0.0087 [3000/60000]\n",
            "loss: 0.0000 [4000/60000]\n",
            "loss: 0.0000 [5000/60000]\n",
            "loss: 0.0003 [6000/60000]\n",
            "loss: 0.0000 [7000/60000]\n",
            "loss: 0.0004 [8000/60000]\n",
            "loss: 0.0002 [9000/60000]\n",
            "loss: 0.0000 [10000/60000]\n",
            "loss: 0.0003 [11000/60000]\n",
            "loss: 0.0051 [12000/60000]\n",
            "loss: 0.0000 [13000/60000]\n",
            "loss: 0.0001 [14000/60000]\n",
            "loss: 0.0001 [15000/60000]\n",
            "loss: 0.0005 [16000/60000]\n",
            "loss: 0.0001 [17000/60000]\n",
            "loss: 0.0001 [18000/60000]\n",
            "loss: 0.0015 [19000/60000]\n",
            "loss: 0.0019 [20000/60000]\n",
            "loss: 0.0009 [21000/60000]\n",
            "loss: 0.0002 [22000/60000]\n",
            "loss: 0.0181 [23000/60000]\n",
            "loss: 0.0026 [24000/60000]\n",
            "loss: 0.0039 [25000/60000]\n",
            "loss: 0.0061 [26000/60000]\n",
            "loss: 0.0086 [27000/60000]\n",
            "loss: 0.0000 [28000/60000]\n",
            "loss: 0.0189 [29000/60000]\n",
            "loss: 0.0000 [30000/60000]\n",
            "loss: 0.0017 [31000/60000]\n",
            "loss: 0.0001 [32000/60000]\n",
            "loss: 0.0002 [33000/60000]\n",
            "loss: 0.0000 [34000/60000]\n",
            "loss: 0.0045 [35000/60000]\n",
            "loss: 0.0003 [36000/60000]\n",
            "loss: 0.0002 [37000/60000]\n",
            "loss: 0.0000 [38000/60000]\n",
            "loss: 0.0028 [39000/60000]\n",
            "loss: 0.0122 [40000/60000]\n",
            "loss: 0.0012 [41000/60000]\n",
            "loss: 0.0000 [42000/60000]\n",
            "loss: 0.0001 [43000/60000]\n",
            "loss: 0.0084 [44000/60000]\n",
            "loss: 0.0000 [45000/60000]\n",
            "loss: 0.0029 [46000/60000]\n",
            "loss: 0.0119 [47000/60000]\n",
            "loss: 0.0016 [48000/60000]\n",
            "loss: 0.1092 [49000/60000]\n",
            "loss: 0.0000 [50000/60000]\n",
            "loss: 0.0015 [51000/60000]\n",
            "loss: 0.1104 [52000/60000]\n",
            "loss: 0.0081 [53000/60000]\n",
            "loss: 0.0003 [54000/60000]\n",
            "loss: 0.0019 [55000/60000]\n",
            "loss: 0.0030 [56000/60000]\n",
            "loss: 0.0000 [57000/60000]\n",
            "loss: 0.0050 [58000/60000]\n",
            "loss: 0.0023 [59000/60000]\n",
            "loss: 0.0044 [60000/60000]\n",
            "training epoch: [4/5]\n",
            "loss: 0.0001 [1000/60000]\n",
            "loss: 0.0011 [2000/60000]\n",
            "loss: 0.0001 [3000/60000]\n",
            "loss: 0.0001 [4000/60000]\n",
            "loss: 0.0006 [5000/60000]\n",
            "loss: 0.0024 [6000/60000]\n",
            "loss: 0.0000 [7000/60000]\n",
            "loss: 0.0011 [8000/60000]\n",
            "loss: 0.0002 [9000/60000]\n",
            "loss: 0.0001 [10000/60000]\n",
            "loss: 0.0479 [11000/60000]\n",
            "loss: 0.0004 [12000/60000]\n",
            "loss: 0.0005 [13000/60000]\n",
            "loss: 0.0001 [14000/60000]\n",
            "loss: 0.0002 [15000/60000]\n",
            "loss: 0.0044 [16000/60000]\n",
            "loss: 0.0151 [17000/60000]\n",
            "loss: 0.0002 [18000/60000]\n",
            "loss: 0.0000 [19000/60000]\n",
            "loss: 0.0008 [20000/60000]\n",
            "loss: 0.0003 [21000/60000]\n",
            "loss: 0.0000 [22000/60000]\n",
            "loss: 0.0001 [23000/60000]\n",
            "loss: 0.0000 [24000/60000]\n",
            "loss: 0.0000 [25000/60000]\n",
            "loss: 0.0814 [26000/60000]\n",
            "loss: 0.0019 [27000/60000]\n",
            "loss: 0.0005 [28000/60000]\n",
            "loss: 0.0001 [29000/60000]\n",
            "loss: 0.0003 [30000/60000]\n",
            "loss: 0.0000 [31000/60000]\n",
            "loss: 0.0000 [32000/60000]\n",
            "loss: 0.0004 [33000/60000]\n",
            "loss: 0.0000 [34000/60000]\n",
            "loss: 0.0025 [35000/60000]\n",
            "loss: 0.0370 [36000/60000]\n",
            "loss: 0.0021 [37000/60000]\n",
            "loss: 0.0000 [38000/60000]\n",
            "loss: 0.0463 [39000/60000]\n",
            "loss: 0.0004 [40000/60000]\n",
            "loss: 0.0209 [41000/60000]\n",
            "loss: 0.0001 [42000/60000]\n",
            "loss: 0.0063 [43000/60000]\n",
            "loss: 0.0012 [44000/60000]\n",
            "loss: 0.0000 [45000/60000]\n",
            "loss: 0.0008 [46000/60000]\n",
            "loss: 0.0011 [47000/60000]\n",
            "loss: 0.0005 [48000/60000]\n",
            "loss: 0.0000 [49000/60000]\n",
            "loss: 0.0024 [50000/60000]\n",
            "loss: 0.0004 [51000/60000]\n",
            "loss: 0.0506 [52000/60000]\n",
            "loss: 0.0007 [53000/60000]\n",
            "loss: 0.0058 [54000/60000]\n",
            "loss: 0.0022 [55000/60000]\n",
            "loss: 0.0001 [56000/60000]\n",
            "loss: 0.0029 [57000/60000]\n",
            "loss: 0.0060 [58000/60000]\n",
            "loss: 0.0037 [59000/60000]\n",
            "loss: 0.0002 [60000/60000]\n",
            "training epoch: [5/5]\n",
            "loss: 0.0807 [1000/60000]\n",
            "loss: 0.0033 [2000/60000]\n",
            "loss: 0.0000 [3000/60000]\n",
            "loss: 0.0132 [4000/60000]\n",
            "loss: 0.0000 [5000/60000]\n",
            "loss: 0.0001 [6000/60000]\n",
            "loss: 0.0000 [7000/60000]\n",
            "loss: 0.0004 [8000/60000]\n",
            "loss: 0.0613 [9000/60000]\n",
            "loss: 0.1038 [10000/60000]\n",
            "loss: 0.0046 [11000/60000]\n",
            "loss: 0.0023 [12000/60000]\n",
            "loss: 0.0000 [13000/60000]\n",
            "loss: 0.0002 [14000/60000]\n",
            "loss: 0.0303 [15000/60000]\n",
            "loss: 0.0000 [16000/60000]\n",
            "loss: 0.0000 [17000/60000]\n",
            "loss: 0.0006 [18000/60000]\n",
            "loss: 0.0006 [19000/60000]\n",
            "loss: 0.0008 [20000/60000]\n",
            "loss: 0.0007 [21000/60000]\n",
            "loss: 0.0002 [22000/60000]\n",
            "loss: 0.0010 [23000/60000]\n",
            "loss: 0.0325 [24000/60000]\n",
            "loss: 0.0058 [25000/60000]\n",
            "loss: 0.0116 [26000/60000]\n",
            "loss: 0.0632 [27000/60000]\n",
            "loss: 0.0006 [28000/60000]\n",
            "loss: 0.0058 [29000/60000]\n",
            "loss: 0.0275 [30000/60000]\n",
            "loss: 0.0000 [31000/60000]\n",
            "loss: 0.0090 [32000/60000]\n",
            "loss: 0.0144 [33000/60000]\n",
            "loss: 0.0846 [34000/60000]\n",
            "loss: 0.0028 [35000/60000]\n",
            "loss: 0.0002 [36000/60000]\n",
            "loss: 0.0001 [37000/60000]\n",
            "loss: 0.0008 [38000/60000]\n",
            "loss: 0.0021 [39000/60000]\n",
            "loss: 0.0014 [40000/60000]\n",
            "loss: 0.0000 [41000/60000]\n",
            "loss: 0.0707 [42000/60000]\n",
            "loss: 0.0001 [43000/60000]\n",
            "loss: 0.0026 [44000/60000]\n",
            "loss: 0.0002 [45000/60000]\n",
            "loss: 0.0000 [46000/60000]\n",
            "loss: 0.0010 [47000/60000]\n",
            "loss: 0.0001 [48000/60000]\n",
            "loss: 0.0002 [49000/60000]\n",
            "loss: 0.0012 [50000/60000]\n",
            "loss: 0.0004 [51000/60000]\n",
            "loss: 0.0003 [52000/60000]\n",
            "loss: 0.0151 [53000/60000]\n",
            "loss: 0.0003 [54000/60000]\n",
            "loss: 0.0000 [55000/60000]\n",
            "loss: 0.0004 [56000/60000]\n",
            "loss: 0.0276 [57000/60000]\n",
            "loss: 0.0000 [58000/60000]\n",
            "loss: 0.0000 [59000/60000]\n",
            "loss: 0.0023 [60000/60000]\n"
          ]
        }
      ],
      "source": [
        "from torch import nn, optim\n",
        "import numpy as np\n",
        "\n",
        "loss_fn = nn.CrossEntropyLoss()\n",
        "optimizer = optim.Adam(model.parameters())\n",
        "epochs = 5\n",
        "\n",
        "def train_model():\n",
        "  for i, (inputs, labels) in enumerate(training_loader, start=1):\n",
        "    inputs = inputs.to(device)\n",
        "    labels = labels.clone().detach().to(device)\n",
        "\n",
        "    optimizer.zero_grad()\n",
        "    outputs = model(inputs)\n",
        "    loss = loss_fn(outputs, labels)\n",
        "\n",
        "    loss.backward()\n",
        "    optimizer.step()\n",
        "\n",
        "    if i % 10 == 0:\n",
        "      current = i * len(inputs)\n",
        "\n",
        "      print(\n",
        "        f'loss: {loss.item():.4f}',\n",
        "        f'[{current}/{len(training_data)}]'\n",
        "      )\n",
        "\n",
        "for epoch in range(1, epochs + 1):\n",
        "  print(f'training epoch: [{epoch}/{epochs}]')\n",
        "\n",
        "  model.train()\n",
        "  train_model()"
      ]
    },
    {
      "cell_type": "markdown",
      "metadata": {
        "id": "qjDsa2URF5Nl"
      },
      "source": [
        "# Evaluation Model"
      ]
    },
    {
      "cell_type": "code",
      "execution_count": 176,
      "metadata": {
        "colab": {
          "base_uri": "https://localhost:8080/"
        },
        "id": "Gdg8_bRUFcbs",
        "outputId": "0064ff79-7746-4cb5-f5d8-9003ec28ad84"
      },
      "outputs": [
        {
          "output_type": "stream",
          "name": "stdout",
          "text": [
            "epoch: [1/5]\n",
            "loss: 0.0521 acc: 0.9800 [500/10000]\n",
            "loss: 0.0493 acc: 0.9900 [1000/10000]\n",
            "loss: 0.2351 acc: 0.9700 [1500/10000]\n",
            "loss: 0.0609 acc: 0.9800 [2000/10000]\n",
            "loss: 0.0002 acc: 1.0000 [2500/10000]\n",
            "loss: 0.0002 acc: 1.0000 [3000/10000]\n",
            "loss: 0.0001 acc: 1.0000 [3500/10000]\n",
            "loss: 0.1836 acc: 0.9800 [4000/10000]\n",
            "loss: 0.0216 acc: 0.9900 [4500/10000]\n",
            "loss: 0.2257 acc: 0.9700 [5000/10000]\n",
            "loss: 0.0072 acc: 1.0000 [5500/10000]\n",
            "loss: 0.3239 acc: 0.9800 [6000/10000]\n",
            "loss: 0.2553 acc: 0.9800 [6500/10000]\n",
            "loss: 0.4591 acc: 0.9700 [7000/10000]\n",
            "loss: 0.0855 acc: 0.9900 [7500/10000]\n",
            "loss: 0.0748 acc: 0.9900 [8000/10000]\n",
            "loss: 0.0541 acc: 0.9900 [8500/10000]\n",
            "loss: 0.0166 acc: 0.9900 [9000/10000]\n",
            "loss: 0.0605 acc: 0.9800 [9500/10000]\n",
            "loss: 0.2136 acc: 0.9800 [10000/10000]\n",
            "epoch: [2/5]\n",
            "loss: 0.2723 acc: 0.9700 [500/10000]\n",
            "loss: 0.0849 acc: 0.9900 [1000/10000]\n",
            "loss: 0.0471 acc: 0.9900 [1500/10000]\n",
            "loss: 0.3087 acc: 0.9400 [2000/10000]\n",
            "loss: 0.0082 acc: 1.0000 [2500/10000]\n",
            "loss: 0.0001 acc: 1.0000 [3000/10000]\n",
            "loss: 0.1836 acc: 0.9800 [3500/10000]\n",
            "loss: 0.0063 acc: 1.0000 [4000/10000]\n",
            "loss: 0.1078 acc: 0.9800 [4500/10000]\n",
            "loss: 0.1059 acc: 0.9700 [5000/10000]\n",
            "loss: 0.0508 acc: 0.9700 [5500/10000]\n",
            "loss: 0.0010 acc: 1.0000 [6000/10000]\n",
            "loss: 0.0808 acc: 0.9900 [6500/10000]\n",
            "loss: 0.0188 acc: 0.9900 [7000/10000]\n",
            "loss: 0.0504 acc: 0.9900 [7500/10000]\n",
            "loss: 0.0106 acc: 1.0000 [8000/10000]\n",
            "loss: 0.0045 acc: 1.0000 [8500/10000]\n",
            "loss: 0.0999 acc: 0.9900 [9000/10000]\n",
            "loss: 0.1354 acc: 0.9700 [9500/10000]\n",
            "loss: 0.1271 acc: 0.9900 [10000/10000]\n",
            "epoch: [3/5]\n",
            "loss: 0.0768 acc: 0.9900 [500/10000]\n",
            "loss: 0.0162 acc: 0.9900 [1000/10000]\n",
            "loss: 0.0099 acc: 1.0000 [1500/10000]\n",
            "loss: 0.0719 acc: 0.9800 [2000/10000]\n",
            "loss: 0.0178 acc: 0.9900 [2500/10000]\n",
            "loss: 0.0303 acc: 0.9800 [3000/10000]\n",
            "loss: 0.0959 acc: 0.9700 [3500/10000]\n",
            "loss: 0.1322 acc: 0.9800 [4000/10000]\n",
            "loss: 0.0868 acc: 0.9900 [4500/10000]\n",
            "loss: 0.0004 acc: 1.0000 [5000/10000]\n",
            "loss: 0.3991 acc: 0.9500 [5500/10000]\n",
            "loss: 0.1649 acc: 0.9900 [6000/10000]\n",
            "loss: 0.0270 acc: 0.9900 [6500/10000]\n",
            "loss: 0.0900 acc: 0.9800 [7000/10000]\n",
            "loss: 0.0615 acc: 0.9900 [7500/10000]\n",
            "loss: 0.0000 acc: 1.0000 [8000/10000]\n",
            "loss: 0.3434 acc: 0.9700 [8500/10000]\n",
            "loss: 0.2436 acc: 0.9800 [9000/10000]\n",
            "loss: 0.0554 acc: 0.9900 [9500/10000]\n",
            "loss: 0.0050 acc: 1.0000 [10000/10000]\n",
            "epoch: [4/5]\n",
            "loss: 0.0753 acc: 0.9800 [500/10000]\n",
            "loss: 0.1429 acc: 0.9800 [1000/10000]\n",
            "loss: 0.2831 acc: 0.9500 [1500/10000]\n",
            "loss: 0.1575 acc: 0.9900 [2000/10000]\n",
            "loss: 0.0331 acc: 0.9900 [2500/10000]\n",
            "loss: 0.0787 acc: 0.9800 [3000/10000]\n",
            "loss: 0.0547 acc: 0.9900 [3500/10000]\n",
            "loss: 0.0359 acc: 0.9800 [4000/10000]\n",
            "loss: 0.0052 acc: 1.0000 [4500/10000]\n",
            "loss: 0.0838 acc: 0.9900 [5000/10000]\n",
            "loss: 0.0336 acc: 0.9800 [5500/10000]\n",
            "loss: 0.0067 acc: 1.0000 [6000/10000]\n",
            "loss: 0.0636 acc: 0.9800 [6500/10000]\n",
            "loss: 0.0001 acc: 1.0000 [7000/10000]\n",
            "loss: 0.0859 acc: 0.9800 [7500/10000]\n",
            "loss: 0.1026 acc: 0.9900 [8000/10000]\n",
            "loss: 0.0014 acc: 1.0000 [8500/10000]\n",
            "loss: 0.0000 acc: 1.0000 [9000/10000]\n",
            "loss: 0.1062 acc: 0.9900 [9500/10000]\n",
            "loss: 0.2418 acc: 0.9600 [10000/10000]\n",
            "epoch: [5/5]\n",
            "loss: 0.0139 acc: 0.9900 [500/10000]\n",
            "loss: 0.0425 acc: 0.9700 [1000/10000]\n",
            "loss: 0.0755 acc: 0.9800 [1500/10000]\n",
            "loss: 0.0049 acc: 1.0000 [2000/10000]\n",
            "loss: 0.0259 acc: 0.9900 [2500/10000]\n",
            "loss: 0.3039 acc: 0.9700 [3000/10000]\n",
            "loss: 0.0025 acc: 1.0000 [3500/10000]\n",
            "loss: 0.0383 acc: 0.9800 [4000/10000]\n",
            "loss: 0.0306 acc: 0.9900 [4500/10000]\n",
            "loss: 0.0512 acc: 0.9900 [5000/10000]\n",
            "loss: 0.1030 acc: 0.9800 [5500/10000]\n",
            "loss: 0.0022 acc: 1.0000 [6000/10000]\n",
            "loss: 0.0006 acc: 1.0000 [6500/10000]\n",
            "loss: 0.0011 acc: 1.0000 [7000/10000]\n",
            "loss: 0.0727 acc: 0.9800 [7500/10000]\n",
            "loss: 0.0353 acc: 0.9800 [8000/10000]\n",
            "loss: 0.0479 acc: 0.9800 [8500/10000]\n",
            "loss: 0.0811 acc: 0.9900 [9000/10000]\n",
            "loss: 0.0001 acc: 1.0000 [9500/10000]\n",
            "loss: 0.2375 acc: 0.9700 [10000/10000]\n"
          ]
        }
      ],
      "source": [
        "def eval_model():\n",
        "  with torch.no_grad():\n",
        "    for i, (inputs, labels) in enumerate(test_loader, start=1):\n",
        "      inputs = inputs.to(device)\n",
        "      labels = labels.clone().detach().to(device)\n",
        "\n",
        "      outputs = model(inputs)\n",
        "      loss = loss_fn(outputs, labels)\n",
        "\n",
        "      if i % 5 == 0:\n",
        "        current = i * len(inputs)\n",
        "\n",
        "        print(f\"loss: {loss.item():.4f} acc: {(outputs.argmax(1) == labels).float().mean().item():.4f} [{current}/{len(test_data)}]\")\n",
        "\n",
        "for epoch in range(1, epochs + 1):\n",
        "  print(f'epoch: [{epoch}/{epochs}]')\n",
        "\n",
        "  model.eval()\n",
        "  eval_model()"
      ]
    },
    {
      "cell_type": "markdown",
      "source": [
        "# Prediction Mode"
      ],
      "metadata": {
        "id": "UJKw_jmFQxRq"
      }
    },
    {
      "cell_type": "code",
      "source": [
        "!pip install Pillow"
      ],
      "metadata": {
        "id": "wKKsDiETMVJ8",
        "outputId": "3c01a207-75f4-4bab-d39d-9bcc637b3732",
        "colab": {
          "base_uri": "https://localhost:8080/"
        }
      },
      "execution_count": 147,
      "outputs": [
        {
          "output_type": "stream",
          "name": "stdout",
          "text": [
            "Looking in indexes: https://pypi.org/simple, https://us-python.pkg.dev/colab-wheels/public/simple/\n",
            "Requirement already satisfied: Pillow in /usr/local/lib/python3.9/dist-packages (9.5.0)\n",
            "Requirement already satisfied: torchsummary in /usr/local/lib/python3.9/dist-packages (1.5.1)\n"
          ]
        }
      ]
    },
    {
      "cell_type": "code",
      "source": [
        "from PIL import Image\n",
        "import requests\n",
        "from io import BytesIO\n",
        "from torchvision import transforms\n",
        "\n",
        "transform = transforms.Compose([\n",
        "  transforms.Resize((28, 28)),\n",
        "  transforms.Grayscale(),\n",
        "  transforms.PILToTensor(),\n",
        "  transforms.ConvertImageDtype(torch.float32)\n",
        "])\n",
        "\n",
        "def show_image(url: str):\n",
        "  res = requests.get(url)\n",
        "  img = Image.open(BytesIO(res.content))\n",
        "\n",
        "  tensor = transform(img)\n",
        "\n",
        "  plt.axis('off')\n",
        "  plt.imshow(tensor.squeeze()) # type: ignore\n",
        "\n",
        "  return tensor\n",
        "\n",
        "img_tensor = show_image(input('url: '))\n",
        "print(img_tensor.shape) # type: ignore\n",
        "\n",
        "with torch.no_grad():\n",
        "  model.eval()\n",
        "  output = model(img_tensor.to(device)) # type: ignore\n",
        "  predicted = output.argmax().item()\n",
        "\n",
        "  print(output[0])\n",
        "  print(f'model preddiction: {predicted}')"
      ],
      "metadata": {
        "id": "3lguJRQBkIRR",
        "outputId": "66b4272f-4afb-453a-8f93-0dd34274ba15",
        "colab": {
          "base_uri": "https://localhost:8080/",
          "height": 498
        }
      },
      "execution_count": 180,
      "outputs": [
        {
          "output_type": "stream",
          "name": "stdout",
          "text": [
            "url: https://p.kindpng.com/picc/s/770-7707591_silhouette-neck-hand-hand-written-number-9-hd.png\n",
            "torch.Size([1, 28, 28])\n",
            "tensor([ -9.0684, -16.7683, -20.3056,  -9.8334, -33.2004,   9.8081, -13.6425,\n",
            "         -0.5963, -31.2247, -16.1627], device='cuda:0')\n",
            "model preddiction: 5\n"
          ]
        },
        {
          "output_type": "display_data",
          "data": {
            "text/plain": [
              "<Figure size 640x480 with 1 Axes>"
            ],
            "image/png": "[encoded data removed]"
          },
          "metadata": {}
        }
      ]
    },
    {
      "cell_type": "code",
      "source": [],
      "metadata": {
        "id": "nM7QRnL-uCqc"
      },
      "execution_count": null,
      "outputs": []
    }
  ],
  "metadata": {
    "accelerator": "GPU",
    "colab": {
      "provenance": [],
      "include_colab_link": true
    },
    "gpuClass": "standard",
    "kernelspec": {
      "display_name": "Python 3",
      "name": "python3"
    },
    "language_info": {
      "codemirror_mode": {
        "name": "ipython",
        "version": 3
      },
      "file_extension": ".py",
      "mimetype": "text/x-python",
      "name": "python",
      "nbconvert_exporter": "python",
      "pygments_lexer": "ipython3",
      "version": "3.10.11"
    }
  },
  "nbformat": 4,
  "nbformat_minor": 0
}