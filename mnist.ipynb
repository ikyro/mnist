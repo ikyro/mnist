{
  "cells": [
    {
      "cell_type": "markdown",
      "metadata": {
        "colab_type": "text",
        "id": "view-in-github"
      },
      "source": [
        "<a href=\"https://colab.research.google.com/github/ikyro/mnist/blob/main/mnist.ipynb\" target=\"_parent\"><img src=\"https://colab.research.google.com/assets/colab-badge.svg\" alt=\"Open In Colab\"/></a>"
      ]
    },
    {
      "cell_type": "markdown",
      "metadata": {
        "id": "JBCWU50vr4yM"
      },
      "source": [
        "# Download `training data` and `test data`"
      ]
    },
    {
      "cell_type": "code",
      "execution_count": 1,
      "metadata": {
        "colab": {
          "base_uri": "https://localhost:8080/"
        },
        "id": "X5ZVIOAvdcQ7",
        "outputId": "c4a4300a-3743-4242-efa6-fec90cd28c0f"
      },
      "outputs": [],
      "source": [
        "from torchvision import datasets\n",
        "from torchvision.transforms import ToTensor\n",
        "\n",
        "training_data = datasets.MNIST(\n",
        "  root='data',\n",
        "  train=True,\n",
        "  download=True,\n",
        "  transform=ToTensor()\n",
        ")\n",
        "\n",
        "test_data = datasets.MNIST(\n",
        "  root='data',\n",
        "  train=False,\n",
        "  download=True,\n",
        "  transform=ToTensor()\n",
        ")"
      ]
    },
    {
      "cell_type": "code",
      "execution_count": 2,
      "metadata": {
        "colab": {
          "base_uri": "https://localhost:8080/",
          "height": 628
        },
        "id": "BIGKzIXum5N0",
        "outputId": "2af23475-4abf-4b52-da29-a464f0089ca8"
      },
      "outputs": [
        {
          "data": {
            "image/png": "[encoded data removed]",
            "text/plain": [
              "<Figure size 600x600 with 9 Axes>"
            ]
          },
          "metadata": {},
          "output_type": "display_data"
        }
      ],
      "source": [
        "import matplotlib.pyplot as plt\n",
        "import torch\n",
        "\n",
        "figure = plt.figure(figsize=(6, 6), layout='constrained')\n",
        "cols = 3\n",
        "rows = 3\n",
        "\n",
        "for i in range(cols * rows):\n",
        "  rand_index = torch.randint(len(training_data), size=(1,)).item()\n",
        "  img, label = training_data[rand_index] # type: ignore\n",
        "  figure.add_subplot(rows, cols, i + 1)\n",
        "  plt.title(label)\n",
        "  plt.axis('off')\n",
        "  plt.imshow(img.squeeze(), cmap='gray')\n",
        "\n",
        "plt.show()"
      ]
    },
    {
      "cell_type": "code",
      "execution_count": 3,
      "metadata": {
        "colab": {
          "base_uri": "https://localhost:8080/"
        },
        "id": "htu9MaHOM52S",
        "outputId": "e23af619-0bc8-47fc-90df-9230dc0ea3bc"
      },
      "outputs": [
        {
          "name": "stdout",
          "output_type": "stream",
          "text": [
            "training data size: torch.Size([60000, 28, 28])\n",
            "test data size: torch.Size([10000, 28, 28])\n"
          ]
        }
      ],
      "source": [
        "print(\n",
        "  f'training data size: {training_data.data.size()}',\n",
        "  f'test data size: {test_data.data.size()}',\n",
        "  sep='\\n'\n",
        ")\n",
        "\n",
        "#print(training_data.data.size()[1:])"
      ]
    },
    {
      "cell_type": "code",
      "execution_count": 4,
      "metadata": {
        "colab": {
          "base_uri": "https://localhost:8080/"
        },
        "id": "XdobnXfkqDUl",
        "outputId": "9f2edc7a-6354-4787-9823-f3b21a1e4290"
      },
      "outputs": [
        {
          "name": "stdout",
          "output_type": "stream",
          "text": [
            "using: cpu\n"
          ]
        }
      ],
      "source": [
        "from torch import cuda\n",
        "\n",
        "device = 'cuda' if cuda.is_available() else 'cpu'\n",
        "\n",
        "print(f'using: {device}')"
      ]
    },
    {
      "cell_type": "code",
      "execution_count": 5,
      "metadata": {
        "id": "_d86QlHTxBSn"
      },
      "outputs": [],
      "source": [
        "from torch import nn\n",
        "\n",
        "class NeuralNetwork(nn.Module):\n",
        "  def __init__(self):\n",
        "    super().__init__()\n",
        "\n",
        "    self.flatten = nn.Flatten()\n",
        "    self.linear_relu_stack = nn.Sequential(\n",
        "      nn.Linear(in_features=28*28, out_features=512),\n",
        "      nn.ReLU(),\n",
        "      nn.Linear(in_features=512, out_features=512),\n",
        "      nn.ReLU(),\n",
        "      nn.Linear(in_features=512, out_features=10),\n",
        "      nn.Softmax()\n",
        "    )\n",
        "\n",
        "  def forward(self, x):\n",
        "    x = self.flatten(x)\n",
        "    logits = self.linear_relu_stack(x)\n",
        "\n",
        "    return logits"
      ]
    },
    {
      "cell_type": "code",
      "execution_count": 6,
      "metadata": {
        "id": "sth14QNkudBJ"
      },
      "outputs": [],
      "source": [
        "from torch.utils.data import DataLoader\n",
        "\n",
        "training_loader = DataLoader(\n",
        "  training_data,\n",
        "  batch_size=100,\n",
        "  shuffle=True,\n",
        "  num_workers=2,\n",
        "  pin_memory=True,\n",
        ")\n",
        "\n",
        "test_loader = DataLoader(\n",
        "  test_data,\n",
        "  batch_size=100,\n",
        "  shuffle=True,\n",
        "  num_workers=2,\n",
        "  pin_memory=True,\n",
        ")"
      ]
    },
    {
      "cell_type": "code",
      "execution_count": 7,
      "metadata": {
        "id": "p__TOMMsMpsL"
      },
      "outputs": [],
      "source": [
        "model = NeuralNetwork().to(device)"
      ]
    },
    {
      "cell_type": "markdown",
      "metadata": {
        "id": "m0w369diFsOp"
      },
      "source": [
        "# Training Model"
      ]
    },
    {
      "cell_type": "code",
      "execution_count": 8,
      "metadata": {
        "colab": {
          "base_uri": "https://localhost:8080/",
          "height": 1000
        },
        "id": "4jKrh_hXbrfM",
        "outputId": "338b1854-33c0-4316-beaa-0e9ad9ce42b2"
      },
      "outputs": [
        {
          "name": "stdout",
          "output_type": "stream",
          "text": [
            "training epoch: 1/5\n"
          ]
        },
        {
          "name": "stderr",
          "output_type": "stream",
          "text": [
            "C:\\Users\\ikyro\\AppData\\Local\\Temp\\ipykernel_5652\\869947608.py:11: UserWarning: To copy construct from a tensor, it is recommended to use sourceTensor.clone().detach() or sourceTensor.clone().detach().requires_grad_(True), rather than torch.tensor(sourceTensor).\n",
            "  labels = torch.tensor(labels).to(device)\n",
            "C:\\Users\\ikyro\\AppData\\Local\\Packages\\PythonSoftwareFoundation.Python.3.10_qbz5n2kfra8p0\\LocalCache\\local-packages\\Python310\\site-packages\\torch\\nn\\modules\\container.py:217: UserWarning: Implicit dimension choice for softmax has been deprecated. Change the call to include dim=X as an argument.\n",
            "  input = module(input)\n"
          ]
        },
        {
          "name": "stdout",
          "output_type": "stream",
          "text": [
            "loss: 2.3029 [  100/60000]\n",
            "loss: 2.0916 [ 1100/60000]\n",
            "loss: 1.8508 [ 2100/60000]\n",
            "loss: 1.6933 [ 3100/60000]\n",
            "loss: 1.7079 [ 4100/60000]\n",
            "loss: 1.6338 [ 5100/60000]\n",
            "loss: 1.6247 [ 6100/60000]\n",
            "loss: 1.6400 [ 7100/60000]\n",
            "loss: 1.6683 [ 8100/60000]\n",
            "loss: 1.6561 [ 9100/60000]\n",
            "loss: 1.6090 [10100/60000]\n",
            "loss: 1.5935 [11100/60000]\n",
            "loss: 1.5845 [12100/60000]\n",
            "loss: 1.6182 [13100/60000]\n",
            "loss: 1.5986 [14100/60000]\n",
            "loss: 1.6722 [15100/60000]\n",
            "loss: 1.6403 [16100/60000]\n",
            "loss: 1.6680 [17100/60000]\n",
            "loss: 1.5964 [18100/60000]\n",
            "loss: 1.6223 [19100/60000]\n",
            "loss: 1.6167 [20100/60000]\n",
            "loss: 1.5741 [21100/60000]\n",
            "loss: 1.6144 [22100/60000]\n",
            "loss: 1.6092 [23100/60000]\n"
          ]
        },
        {
          "ename": "KeyboardInterrupt",
          "evalue": "",
          "output_type": "error",
          "traceback": [
            "\u001b[1;31m---------------------------------------------------------------------------\u001b[0m",
            "\u001b[1;31mKeyboardInterrupt\u001b[0m                         Traceback (most recent call last)",
            "Cell \u001b[1;32mIn[8], line 30\u001b[0m\n\u001b[0;32m     27\u001b[0m \u001b[39mprint\u001b[39m(\u001b[39mf\u001b[39m\u001b[39m'\u001b[39m\u001b[39mtraining epoch: \u001b[39m\u001b[39m{\u001b[39;00mepoch\u001b[39m}\u001b[39;00m\u001b[39m/\u001b[39m\u001b[39m{\u001b[39;00mepochs\u001b[39m}\u001b[39;00m\u001b[39m'\u001b[39m)\n\u001b[0;32m     29\u001b[0m model\u001b[39m.\u001b[39mtrain()\n\u001b[1;32m---> 30\u001b[0m train_model()\n",
            "Cell \u001b[1;32mIn[8], line 9\u001b[0m, in \u001b[0;36mtrain_model\u001b[1;34m()\u001b[0m\n\u001b[0;32m      8\u001b[0m \u001b[39mdef\u001b[39;00m \u001b[39mtrain_model\u001b[39m():\n\u001b[1;32m----> 9\u001b[0m   \u001b[39mfor\u001b[39;00m i, (inputs, labels) \u001b[39min\u001b[39;00m \u001b[39menumerate\u001b[39m(training_loader):\n\u001b[0;32m     10\u001b[0m     inputs \u001b[39m=\u001b[39m inputs\u001b[39m.\u001b[39mto(device)\n\u001b[0;32m     11\u001b[0m     labels \u001b[39m=\u001b[39m torch\u001b[39m.\u001b[39mtensor(labels)\u001b[39m.\u001b[39mto(device)\n",
            "File \u001b[1;32m~\\AppData\\Local\\Packages\\PythonSoftwareFoundation.Python.3.10_qbz5n2kfra8p0\\LocalCache\\local-packages\\Python310\\site-packages\\torch\\utils\\data\\dataloader.py:630\u001b[0m, in \u001b[0;36m_BaseDataLoaderIter.__next__\u001b[1;34m(self)\u001b[0m\n\u001b[0;32m    629\u001b[0m \u001b[39mdef\u001b[39;00m \u001b[39m__next__\u001b[39m(\u001b[39mself\u001b[39m) \u001b[39m-\u001b[39m\u001b[39m>\u001b[39m Any:\n\u001b[1;32m--> 630\u001b[0m     \u001b[39mwith\u001b[39;00m torch\u001b[39m.\u001b[39mautograd\u001b[39m.\u001b[39mprofiler\u001b[39m.\u001b[39mrecord_function(\u001b[39mself\u001b[39m\u001b[39m.\u001b[39m_profile_name):\n\u001b[0;32m    631\u001b[0m         \u001b[39mif\u001b[39;00m \u001b[39mself\u001b[39m\u001b[39m.\u001b[39m_sampler_iter \u001b[39mis\u001b[39;00m \u001b[39mNone\u001b[39;00m:\n\u001b[0;32m    632\u001b[0m             \u001b[39m# TODO(https://github.com/pytorch/pytorch/issues/76750)\u001b[39;00m\n\u001b[0;32m    633\u001b[0m             \u001b[39mself\u001b[39m\u001b[39m.\u001b[39m_reset()  \u001b[39m# type: ignore[call-arg]\u001b[39;00m\n",
            "File \u001b[1;32m~\\AppData\\Local\\Packages\\PythonSoftwareFoundation.Python.3.10_qbz5n2kfra8p0\\LocalCache\\local-packages\\Python310\\site-packages\\torch\\autograd\\profiler.py:507\u001b[0m, in \u001b[0;36mrecord_function.__exit__\u001b[1;34m(self, exc_type, exc_value, traceback)\u001b[0m\n\u001b[0;32m    505\u001b[0m \u001b[39mif\u001b[39;00m \u001b[39mnot\u001b[39;00m torch\u001b[39m.\u001b[39mjit\u001b[39m.\u001b[39mis_scripting():\n\u001b[0;32m    506\u001b[0m     \u001b[39mwith\u001b[39;00m torch\u001b[39m.\u001b[39m_C\u001b[39m.\u001b[39mDisableTorchFunctionSubclass():\n\u001b[1;32m--> 507\u001b[0m         torch\u001b[39m.\u001b[39;49mops\u001b[39m.\u001b[39;49mprofiler\u001b[39m.\u001b[39;49m_record_function_exit\u001b[39m.\u001b[39;49m_RecordFunction(record)\n\u001b[0;32m    508\u001b[0m \u001b[39melse\u001b[39;00m:\n\u001b[0;32m    509\u001b[0m     torch\u001b[39m.\u001b[39mops\u001b[39m.\u001b[39mprofiler\u001b[39m.\u001b[39m_record_function_exit(record)\n",
            "File \u001b[1;32m~\\AppData\\Local\\Packages\\PythonSoftwareFoundation.Python.3.10_qbz5n2kfra8p0\\LocalCache\\local-packages\\Python310\\site-packages\\torch\\_ops.py:287\u001b[0m, in \u001b[0;36mOpOverload.__call__\u001b[1;34m(self, *args, **kwargs)\u001b[0m\n\u001b[0;32m    286\u001b[0m \u001b[39mdef\u001b[39;00m \u001b[39m__call__\u001b[39m(\u001b[39mself\u001b[39m, \u001b[39m*\u001b[39margs, \u001b[39m*\u001b[39m\u001b[39m*\u001b[39mkwargs):\n\u001b[1;32m--> 287\u001b[0m     \u001b[39mreturn\u001b[39;00m \u001b[39mself\u001b[39m\u001b[39m.\u001b[39m_op(\u001b[39m*\u001b[39margs, \u001b[39m*\u001b[39m\u001b[39m*\u001b[39mkwargs \u001b[39mor\u001b[39;00m {})\n",
            "\u001b[1;31mKeyboardInterrupt\u001b[0m: "
          ]
        }
      ],
      "source": [
        "from torch import nn, optim\n",
        "import numpy as np\n",
        "\n",
        "loss_fn = nn.CrossEntropyLoss()\n",
        "optimizer = optim.Adam(model.parameters())\n",
        "epochs = 5\n",
        "\n",
        "def train_model():\n",
        "  for i, (inputs, labels) in enumerate(training_loader):\n",
        "    inputs = inputs.to(device)\n",
        "    labels = torch.tensor(labels).to(device)\n",
        "\n",
        "    optimizer.zero_grad()\n",
        "    outputs = model(inputs)\n",
        "    loss = loss_fn(outputs, labels)\n",
        "    \n",
        "    loss.backward()\n",
        "    optimizer.step()\n",
        "\n",
        "    if i % 10 == 0:\n",
        "      loss = loss.item()\n",
        "      current = (i + 1) * len(inputs)\n",
        "\n",
        "      print(f'loss: {loss:.4f} [{current:>5d}/{len(training_data):>5d}]')\n",
        "  \n",
        "for epoch in range(1, epochs + 1):\n",
        "  print(f'training epoch: {epoch}/{epochs}')\n",
        "\n",
        "  model.train()\n",
        "  train_model()"
      ]
    },
    {
      "cell_type": "markdown",
      "metadata": {
        "id": "qjDsa2URF5Nl"
      },
      "source": [
        "# Evaluation Model"
      ]
    },
    {
      "cell_type": "code",
      "execution_count": null,
      "metadata": {
        "colab": {
          "base_uri": "https://localhost:8080/"
        },
        "id": "Gdg8_bRUFcbs",
        "outputId": "a926f48d-ff18-4e7d-af53-f63c80f00247"
      },
      "outputs": [],
      "source": [
        "def eval_model():\n",
        "  val_loss = []\n",
        "  val_acc = []\n",
        "\n",
        "  with torch.no_grad():\n",
        "    for i, (inputs, labels) in enumerate(test_loader):\n",
        "      inputs = inputs.to(device)\n",
        "      labels = torch.tensor(labels).to(device)\n",
        "\n",
        "      outputs = model(inputs)\n",
        "      loss = loss_fn(outputs, labels)\n",
        "\n",
        "      val_loss.append(loss.item())\n",
        "      val_acc.append((outputs.argmax(1) == labels).float().mean().item())\n",
        "      print(f\"evaluation loss: {np.mean(val_loss):.4f} evaluation accuracy: {np.mean(val_acc):.4f}\")\n",
        "\n",
        "for epoch in range(1, epochs + 1):\n",
        "  print(f'evaluation epoch: {epoch}/{epochs}')\n",
        "\n",
        "  model.eval()\n",
        "  eval_model()"
      ]
    },
    {
      "cell_type": "code",
      "execution_count": null,
      "metadata": {
        "id": "jV9F1XXSiOtF"
      },
      "outputs": [],
      "source": [
        "torch.save(model.state_dict(), 'model.ckpt')"
      ]
    }
  ],
  "metadata": {
    "accelerator": "GPU",
    "colab": {
      "authorship_tag": "ABX9TyPIUkZvwCKNbgeFAd8KCdCa",
      "include_colab_link": true,
      "provenance": []
    },
    "gpuClass": "standard",
    "kernelspec": {
      "display_name": "Python 3",
      "name": "python3"
    },
    "language_info": {
      "codemirror_mode": {
        "name": "ipython",
        "version": 3
      },
      "file_extension": ".py",
      "mimetype": "text/x-python",
      "name": "python",
      "nbconvert_exporter": "python",
      "pygments_lexer": "ipython3",
      "version": "3.10.11"
    }
  },
  "nbformat": 4,
  "nbformat_minor": 0
}
